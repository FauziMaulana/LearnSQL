{
 "cells": [
  {
   "cell_type": "markdown",
   "metadata": {},
   "source": [
    "# Using PostgreSQL"
   ]
  },
  {
   "cell_type": "markdown",
   "metadata": {},
   "source": [
    "## Objective"
   ]
  },
  {
   "cell_type": "markdown",
   "metadata": {},
   "source": [
    "Exploring the basics of PostgreSQL, and how to use it from Python, and\n",
    "\n",
    "Working with PostgreSQL from the command line.\n",
    "\n",
    "Creating a database, querying data, and some advanced features."
   ]
  },
  {
   "cell_type": "markdown",
   "metadata": {},
   "source": [
    "## Psycopg2"
   ]
  },
  {
   "cell_type": "code",
   "execution_count": 3,
   "metadata": {
    "collapsed": false
   },
   "outputs": [
    {
     "name": "stdout",
     "output_type": "stream",
     "text": [
      "<cursor object at 0x00000000049CC748; closed: 0>\n"
     ]
    }
   ],
   "source": [
    "import psycopg2\n",
    "conn = psycopg2.connect(\"dbname=postgres user=postgres\")\n",
    "cursor = conn.cursor()\n",
    "print(cursor)\n",
    "conn.close()"
   ]
  },
  {
   "cell_type": "markdown",
   "metadata": {},
   "source": [
    "## Creating A Table"
   ]
  },
  {
   "cell_type": "code",
   "execution_count": 4,
   "metadata": {
    "collapsed": true
   },
   "outputs": [],
   "source": [
    "conn = psycopg2.connect(\"dbname=postgres user=postgres\")\n",
    "cur = conn.cursor()\n",
    "query = '''\n",
    "CREATE TABLE notes(\n",
    "id integer PRIMARY KEY,\n",
    "body text,\n",
    "title text);'''\n",
    "cur.execute(query)\n",
    "conn.close()"
   ]
  },
  {
   "cell_type": "markdown",
   "metadata": {},
   "source": [
    "## SQL Transactions"
   ]
  },
  {
   "cell_type": "code",
   "execution_count": 5,
   "metadata": {
    "collapsed": true
   },
   "outputs": [],
   "source": [
    "conn = psycopg2.connect(\"dbname=postgres user=postgres\")\n",
    "cur = conn.cursor()\n",
    "query = '''\n",
    "CREATE TABLE notes(\n",
    "id integer PRIMARY KEY,\n",
    "body text,\n",
    "title text);'''\n",
    "cur.execute(query)\n",
    "conn.commit()\n",
    "conn.close()"
   ]
  },
  {
   "cell_type": "markdown",
   "metadata": {},
   "source": [
    "## Autocommitting"
   ]
  },
  {
   "cell_type": "code",
   "execution_count": 7,
   "metadata": {
    "collapsed": false
   },
   "outputs": [],
   "source": [
    "conn = psycopg2.connect(\"dbname=postgres user=postgres\")\n",
    "conn.autocommit = True\n",
    "cur = conn.cursor()\n",
    "query = '''\n",
    "CREATE TABLE facts(\n",
    "id integer PRIMARY KEY,\n",
    "body text,\n",
    "title text);'''\n",
    "cur.execute(query)\n",
    "conn.close()"
   ]
  },
  {
   "cell_type": "markdown",
   "metadata": {},
   "source": [
    "## Executing Queries"
   ]
  },
  {
   "cell_type": "code",
   "execution_count": 9,
   "metadata": {
    "collapsed": false
   },
   "outputs": [
    {
     "name": "stdout",
     "output_type": "stream",
     "text": [
      "[(1, 'Testing on postgres.', 'Postgres note')]\n"
     ]
    }
   ],
   "source": [
    "conn = psycopg2.connect(\"dbname=postgres user=postgres\")\n",
    "cur = conn.cursor()\n",
    "cur.execute(\"INSERT INTO notes VALUES (1, 'Testing on postgres.', 'Postgres note');\")\n",
    "cur.execute(\"SELECT * from notes;\")\n",
    "rows = cur.fetchall()\n",
    "print(rows)\n",
    "conn.close()"
   ]
  },
  {
   "cell_type": "markdown",
   "metadata": {},
   "source": [
    "## Creating A Database"
   ]
  },
  {
   "cell_type": "code",
   "execution_count": 12,
   "metadata": {
    "collapsed": false
   },
   "outputs": [],
   "source": [
    "conn = psycopg2.connect(\"dbname=postgres user=postgres\")\n",
    "conn.autocommit = True\n",
    "cur = conn.cursor()\n",
    "cur.execute(\"CREATE DATABASE income OWNER postgres;\")\n",
    "conn.close()"
   ]
  },
  {
   "cell_type": "markdown",
   "metadata": {},
   "source": [
    "## Psql 9.6 Tool"
   ]
  },
  {
   "cell_type": "markdown",
   "metadata": {},
   "source": [
    "Running SQL query to create a new database"
   ]
  },
  {
   "cell_type": "markdown",
   "metadata": {},
   "source": [
    "    postgres=# CREATE DATABASE bank_account;\n",
    "    CREATE DATABASE\n",
    "    postgres=# \\l\n",
    "    \n",
    "                                                     List of databases\n",
    "         Name     |  Owner   | Encoding |          Collate          |           Ctype           |   Access privileges\n",
    "    --------------+----------+----------+---------------------------+---------------------------+-----------------------\n",
    "     bank_account | postgres | UTF8     | Indonesian_Indonesia.1252 | Indonesian_Indonesia.1252 |\n",
    "     income       | postgres | UTF8     | Indonesian_Indonesia.1252 | Indonesian_Indonesia.1252 |\n",
    "     postgres     | postgres | UTF8     | Indonesian_Indonesia.1252 | Indonesian_Indonesia.1252 |\n",
    "     template0    | postgres | UTF8     | Indonesian_Indonesia.1252 | Indonesian_Indonesia.1252 | =c/postgres          +\n",
    "                  |          |          |                           |                           | postgres=CTc/postgres\n",
    "     template1    | postgres | UTF8     | Indonesian_Indonesia.1252 | Indonesian_Indonesia.1252 | =c/postgres          +\n",
    "                  |          |          |                           |                           | postgres=CTc/postgres\n",
    "    (5 rows)"
   ]
  },
  {
   "cell_type": "markdown",
   "metadata": {},
   "source": [
    "## Special PostgreSQL Commands"
   ]
  },
  {
   "cell_type": "markdown",
   "metadata": {},
   "source": [
    "    Most common functions to run are:\n",
    "    •\t\\l -- list all available databases.\n",
    "    •\t\\dt -- list all tables in the current database.\n",
    "    •\t\\du -- list users.\n",
    "    •\t\\dp -- list priviliges.\n",
    "    \n",
    "    postgres=# \\dt\n",
    "          List of relations\n",
    "     Schema |   Name   | Type  |  Owner\n",
    "    --------+----------+-------+----------\n",
    "     public | deposits | table | postgres\n",
    "     public | facts    | table | postgres\n",
    "     public | notes    | table | postgres\n",
    "    (3 rows)\n",
    "    \n",
    "    postgres=# \\du\n",
    "                                   List of roles\n",
    "     Role name |                         Attributes                         | Member of\n",
    "    -----------+------------------------------------------------------------+-----------\n",
    "     postgres  | Superuser, Create role, Create DB, Replication, Bypass RLS | {}\n",
    "\n",
    "    postgres=# \\dp\n",
    "                            Access privileges\n",
    "     Schema | Name | Type | Access privileges | Column privileges | Policies\n",
    "    --------+------+------+-------------------+-------------------+----------\n",
    "    (0 rows)\n"
   ]
  },
  {
   "cell_type": "markdown",
   "metadata": {},
   "source": [
    "## Switching Databases"
   ]
  },
  {
   "cell_type": "markdown",
   "metadata": {},
   "source": [
    "    postgres=# \\connect bank_account\n",
    "    bank_account=#"
   ]
  },
  {
   "cell_type": "markdown",
   "metadata": {},
   "source": [
    "## Creating Users"
   ]
  },
  {
   "cell_type": "markdown",
   "metadata": {},
   "source": [
    "    bank_account=# CREATE ROLE sec WITH LOGIN CREATEDB PASSWORD 'test';\n",
    "    CREATE ROLE\n",
    "    bank_account=# \\du\n",
    "                                   List of roles\n",
    "     Role name |                         Attributes                         | Member of\n",
    "    -----------+------------------------------------------------------------+-----------\n",
    "     postgres  | Superuser, Create role, Create DB, Replication, Bypass RLS | {}\n",
    "     sec       | Create DB                                                  | {}"
   ]
  },
  {
   "cell_type": "markdown",
   "metadata": {},
   "source": [
    "## Adding Permissions"
   ]
  },
  {
   "cell_type": "markdown",
   "metadata": {},
   "source": [
    "    bank_account=# CREATE TABLE deposits (id integer PRIMARY KEY, name text, amount float);\n",
    "    CREATE TABLE\n",
    "    bank_account=# GRANT ALL PRIVILEGES ON deposits TO sec;\n",
    "    GRANT\n",
    "    bank_account=# \\dp\n",
    "                                  Access privileges\n",
    "     Schema |   Name   | Type  |     Access privileges     | Column privileges | Policies\n",
    "    --------+----------+-------+---------------------------+-------------------+----------\n",
    "     public | deposits | table | postgres=arwdDxt/postgres+|                   |\n",
    "            |          |       | sec=arwdDxt/postgres      |                   |\n",
    "    (1 row)"
   ]
  },
  {
   "cell_type": "markdown",
   "metadata": {},
   "source": [
    "## Superusers"
   ]
  },
  {
   "cell_type": "markdown",
   "metadata": {},
   "source": [
    "    bank_account=# CREATE ROLE aig WITH LOGIN PASSWORD 'test' SUPERUSER;\n",
    "    CREATE ROLE\n",
    "    bank_account=# \\du\n",
    "                                   List of roles\n",
    "     Role name |                         Attributes                         | Member of\n",
    "    -----------+------------------------------------------------------------+-----------\n",
    "     aig       | Superuser                                                  | {}\n",
    "     postgres  | Superuser, Create role, Create DB, Replication, Bypass RLS | {}\n",
    "     sec       | Create DB                                                  | {}"
   ]
  }
 ],
 "metadata": {
  "kernelspec": {
   "display_name": "Python 3",
   "language": "python",
   "name": "python3"
  },
  "language_info": {
   "codemirror_mode": {
    "name": "ipython",
    "version": 3
   },
   "file_extension": ".py",
   "mimetype": "text/x-python",
   "name": "python",
   "nbconvert_exporter": "python",
   "pygments_lexer": "ipython3",
   "version": "3.6.0"
  }
 },
 "nbformat": 4,
 "nbformat_minor": 2
}
