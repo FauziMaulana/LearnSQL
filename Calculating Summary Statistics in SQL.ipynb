{
 "cells": [
  {
   "cell_type": "markdown",
   "metadata": {},
   "source": [
    "# Calculating Summary Statistics in SQL"
   ]
  },
  {
   "cell_type": "markdown",
   "metadata": {},
   "source": [
    "## Objective"
   ]
  },
  {
   "cell_type": "markdown",
   "metadata": {},
   "source": [
    "Calculating summary statistics in SQL to better understand population data and projecting the following year's population for each country using SQL arithmetic. "
   ]
  },
  {
   "cell_type": "markdown",
   "metadata": {},
   "source": [
    "## Database"
   ]
  },
  {
   "cell_type": "markdown",
   "metadata": {},
   "source": [
    "The database come [from Github](https://github.com/factbook/factbook.sql), It contains compendium of facts about countries. The Factbook contains demographic information for each country in the world, including:\n",
    "\n",
    "    •\tname - The name of the country\n",
    "    •\tarea - The total land and sea area of the country\n",
    "    •\tpopulation - The country's population\n",
    "    •\tbirth_rate - The country's birth rate\n",
    "    •\tcreated_at - The date the record was created\n",
    "    •\tupdated_at - The date the record was updated\n",
    "    \n",
    "Here are the first few rows of facts table:\n",
    "\n",
    "| id | code | name        | area    | area_land | area_water | population | population_growth | birth_rate | death_rate | migration_rate | created_at                 | updated_at                 |\n",
    "|----|------|-------------|---------|-----------|------------|------------|-------------------|------------|------------|----------------|----------------------------|----------------------------|\n",
    "| 1  | af   | Afghanistan | 652230  | 652230    | 0          | 32564342   | 2.32              | 38.57      | 13.89      | 1.51           | 2015-11-01 13:19:49.461734 | 2015-11-01 13:19:49.461734 |\n",
    "| 2  | al   | Albania     | 28748   | 27398     | 1350       | 3029278    | 0.3               | 12.92      | 6.58       | 3.3            | 2015-11-01 13:19:54.431082 | 2015-11-01 13:19:54.431082 |\n",
    "| 3  | ag   | Algeria     | 2381741 | 2381741   | 0          | 39542166   | 1.84              | 23.67      | 4.31       | 0.92           | 2015-11-01 13:19:59.961286 | 2015-11-01 13:19:59.961286 |\n"
   ]
  },
  {
   "cell_type": "markdown",
   "metadata": {},
   "source": [
    "## Exploring the Database"
   ]
  },
  {
   "cell_type": "markdown",
   "metadata": {},
   "source": [
    "Calculate the means of the population, population_growth, birth_rate, and death_rate columns."
   ]
  },
  {
   "cell_type": "code",
   "execution_count": 1,
   "metadata": {
    "collapsed": false
   },
   "outputs": [
    {
     "name": "stdout",
     "output_type": "stream",
     "text": [
      "[(62094928.32231405, 1.2009745762711865, 19.32855263157894, 7.8212719298245625)]\n",
      "62094928.32231405\n",
      "1.2009745762711865\n",
      "19.32855263157894\n",
      "7.8212719298245625\n"
     ]
    }
   ],
   "source": [
    "import sqlite3\n",
    "conn = sqlite3.connect(\"factbook.db\")\n",
    "\n",
    "averages = \"SELECT avg(population), avg(population_growth), avg(birth_rate), avg(death_rate) FROM facts;\"\n",
    "avg_results = conn.execute(averages).fetchall()\n",
    "\n",
    "pop_avg = avg_results[0][0]\n",
    "pop_growth_avg = avg_results[0][1]\n",
    "birth_rate_avg = avg_results[0][2]\n",
    "death_rate_avg = avg_results[0][3]\n",
    "\n",
    "print(avg_results)\n",
    "print(pop_avg)\n",
    "print(pop_growth_avg)\n",
    "print(birth_rate_avg)\n",
    "print(death_rate_avg)"
   ]
  },
  {
   "cell_type": "markdown",
   "metadata": {},
   "source": [
    "## Find Ranges"
   ]
  },
  {
   "cell_type": "markdown",
   "metadata": {},
   "source": [
    "Calculate the ranges to know what the data lower and upper bounds are and look for outliers."
   ]
  },
  {
   "cell_type": "code",
   "execution_count": 2,
   "metadata": {
    "collapsed": false
   },
   "outputs": [
    {
     "name": "stdout",
     "output_type": "stream",
     "text": [
      "0\n",
      "7256490011\n",
      "0.0\n",
      "4.02\n",
      "6.65\n",
      "45.45\n",
      "1.53\n",
      "14.89\n"
     ]
    }
   ],
   "source": [
    "conn = sqlite3.connect(\"factbook.db\")\n",
    "\n",
    "minimum = \"SELECT min(population), min(population_growth), min(birth_rate), min(death_rate) FROM facts;\"\n",
    "maximum = \"SELECT max(population), max(population_growth), max(birth_rate), max(death_rate) FROM facts;\"\n",
    "min_tuple = conn.execute(minimum).fetchall()\n",
    "max_tuple = conn.execute(maximum).fetchall()\n",
    "\n",
    "pop_min = min_tuple[0][0]\n",
    "pop_max = max_tuple[0][0]\n",
    "pop_growth_min = min_tuple[0][1]\n",
    "pop_growth_max = max_tuple[0][1]\n",
    "birth_rate_min = min_tuple[0][2]\n",
    "birth_rate_max = max_tuple[0][2]\n",
    "death_rate_min = min_tuple[0][3]\n",
    "death_rate_max = max_tuple[0][3]\n",
    "\n",
    "print(pop_min)\n",
    "print(pop_max)\n",
    "print(pop_growth_min)\n",
    "print(pop_growth_max)\n",
    "print(birth_rate_min)\n",
    "print(birth_rate_max)\n",
    "print(death_rate_min)\n",
    "print(death_rate_max)"
   ]
  },
  {
   "cell_type": "markdown",
   "metadata": {},
   "source": [
    "#### Observations:\n",
    "Notice that the outliers. The max for population is 7,256,490,011, while the minimum is 0. We know that China, the most populated country in the world, has less than 2 billion people. The max value for the population column is over 7 billion, however. The minimum value for the population column is also problematic, because no country has 0 people.\n",
    "\n",
    "These quirks exist because the database contains rows for entities that aren't countries. There's a row representing the entire world, for example (hence the 7 billion population), and some rows representing oceanic areas (hence the population of 0)."
   ]
  },
  {
   "cell_type": "markdown",
   "metadata": {},
   "source": [
    "## Filter Values"
   ]
  },
  {
   "cell_type": "markdown",
   "metadata": {},
   "source": [
    "Write query that returns the following minimum and maximum values for countries where population is less than 2 billion and population is greater than 0:"
   ]
  },
  {
   "cell_type": "code",
   "execution_count": 3,
   "metadata": {
    "collapsed": false
   },
   "outputs": [
    {
     "name": "stdout",
     "output_type": "stream",
     "text": [
      "[(48, 1367485388, 0.0, 4.02, 6.65, 45.45, 1.53, 14.89)]\n",
      "48\n",
      "1367485388\n",
      "0.0\n",
      "4.02\n",
      "6.65\n",
      "45.45\n",
      "1.53\n",
      "14.89\n"
     ]
    }
   ],
   "source": [
    "conn = sqlite3.connect(\"factbook.db\")\n",
    "\n",
    "min_and_max = '''\n",
    "SELECT min(population), max(population), min(population_growth), max(population_growth),\n",
    "min(birth_rate), max(birth_rate), min(death_rate), max(death_rate)\n",
    "FROM facts WHERE population > 0 and population < 2000000000;\n",
    "'''\n",
    "results = conn.execute(min_and_max).fetchall()\n",
    "print(results)\n",
    "\n",
    "# population column\n",
    "pop_min = results[0][0]\n",
    "pop_max = results[0][1]\n",
    "# population_growth column\n",
    "pop_growth_min = results[0][2]\n",
    "pop_growth_max = results[0][3]\n",
    "# birth_rate column\n",
    "birth_rate_min = results[0][4]\n",
    "birth_rate_max = results[0][5]\n",
    "# death_rate column\n",
    "death_rate_min = results[0][6]\n",
    "death_rate_max = results[0][7]\n",
    "\n",
    "print(pop_min)\n",
    "print(pop_max)\n",
    "print(pop_growth_min)\n",
    "print(pop_growth_max)\n",
    "print(birth_rate_min)\n",
    "print(birth_rate_max)\n",
    "print(death_rate_min)\n",
    "print(death_rate_max)"
   ]
  },
  {
   "cell_type": "markdown",
   "metadata": {},
   "source": [
    "## Predict Future Population Growth"
   ]
  },
  {
   "cell_type": "code",
   "execution_count": 4,
   "metadata": {
    "collapsed": false
   },
   "outputs": [
    {
     "name": "stdout",
     "output_type": "stream",
     "text": [
      "[(33319835.0,), (3038366.0,), (40269742.0,), (85683.0,), (20170938.0,), (93582.0,), (43835803.0,), (3060967.0,), (22994450.0,), (8713211.0,)]\n"
     ]
    }
   ],
   "source": [
    "conn = sqlite3.connect(\"factbook.db\")\n",
    "\n",
    "projected_population_query = '''\n",
    "SELECT round(population + population * (population_growth/100), 0) FROM facts\n",
    "WHERE population > 0 AND population < 7000000000 \n",
    "AND population is not null and population_growth is not null;\n",
    "'''\n",
    "\n",
    "projected_population = conn.execute(projected_population_query).fetchall()\n",
    "print(projected_population[0:10])"
   ]
  },
  {
   "cell_type": "markdown",
   "metadata": {},
   "source": [
    "## Explore Projected Population"
   ]
  },
  {
   "cell_type": "markdown",
   "metadata": {},
   "source": [
    "To understand how global population would shift under the projections, calculate the minimum, maximum, and average values."
   ]
  },
  {
   "cell_type": "code",
   "execution_count": 5,
   "metadata": {
    "collapsed": false
   },
   "outputs": [
    {
     "name": "stdout",
     "output_type": "stream",
     "text": [
      "Projected Population, Minimum:  48.0\n",
      "Projected Population, Maximum:  1373639072.0\n",
      "Projected Population, Average:  33405469.0\n"
     ]
    }
   ],
   "source": [
    "conn = sqlite3.connect(\"factbook.db\")\n",
    "proj_pop_query = '''\n",
    "select round(min(population + population * (population_growth/100)), 0), \n",
    "round(max(population + population * (population_growth/100)), 0), \n",
    "round(avg(population + population * (population_growth/100)), 0)\n",
    "from facts \n",
    "where population > 0 and population < 7000000000 and \n",
    "population is not null and population_growth is not null;\n",
    "'''\n",
    "\n",
    "proj_results = conn.execute(proj_pop_query).fetchall()\n",
    "\n",
    "pop_proj_min = proj_results[0][0]\n",
    "pop_proj_max = proj_results[0][1]\n",
    "pop_proj_avg = proj_results[0][2]\n",
    "\n",
    "print(\"Projected Population,\", \"Minimum: \", pop_proj_min)\n",
    "print(\"Projected Population,\", \"Maximum: \", pop_proj_max)\n",
    "print(\"Projected Population,\", \"Average: \", pop_proj_avg)"
   ]
  }
 ],
 "metadata": {
  "kernelspec": {
   "display_name": "Python 3",
   "language": "python",
   "name": "python3"
  },
  "language_info": {
   "codemirror_mode": {
    "name": "ipython",
    "version": 3
   },
   "file_extension": ".py",
   "mimetype": "text/x-python",
   "name": "python",
   "nbconvert_exporter": "python",
   "pygments_lexer": "ipython3",
   "version": "3.6.0"
  }
 },
 "nbformat": 4,
 "nbformat_minor": 2
}
