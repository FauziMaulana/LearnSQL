{
 "cells": [
  {
   "cell_type": "markdown",
   "metadata": {},
   "source": [
    "# Analyzing Financial Services Consumer Complaints Data"
   ]
  },
  {
   "cell_type": "markdown",
   "metadata": {},
   "source": [
    "## Objective"
   ]
  },
  {
   "cell_type": "markdown",
   "metadata": {},
   "source": [
    "Using PostgreSQL to analyzing the data and discovering valuable insights\n",
    "\n",
    "    Creating users, databases and tables,\n",
    "    The IS NULL/IS NOT NULL clause,\n",
    "    Views,\n",
    "    Subqueries,\n",
    "    Union/union all,\n",
    "    Intersect/except,\n",
    "    String concatenation, and\n",
    "    Casting data types."
   ]
  },
  {
   "cell_type": "markdown",
   "metadata": {},
   "source": [
    "## Data Set"
   ]
  },
  {
   "cell_type": "markdown",
   "metadata": {},
   "source": [
    "The data set contains two different CSV files of consumer complaint data from the CFPB:\n",
    "    Bank_Account_or_Service_Complaints.csv\n",
    "    Credit_Card_Complaints.csv\n",
    "\n",
    "The files were downloaded from the [CFPB website](https://www.consumerfinance.gov/data-research/consumer-complaints/#download-the-data)\n",
    "\n",
    "Both CSV files have identical fields. Below is each field, and the data type:\n",
    "\n",
    "| Field Name                   | Data Type |\n",
    "|------------------------------|-----------|\n",
    "| complaint_id                 | text      |\n",
    "| date_received                | date      |\n",
    "| product                      | text      |\n",
    "| sub_product                  | text      |\n",
    "| issue                        | text      |\n",
    "| sub_issue                    | text      |\n",
    "| consumer_complaint_narrative | text      |\n",
    "| company_public_response      | text      |\n",
    "| company                      | text      |\n",
    "| state                        | text      |\n",
    "| zip_code                     | text      |\n",
    "| tags                         | text      |\n",
    "| consumer_consent_provided    | text      |\n",
    "| submitted_via                | text      |\n",
    "| date_sent                    | date      |\n",
    "| company_response_to_consumer | text      |\n",
    "| timely_response              | text      |\n",
    "| consumer_disputed            | text      |\n",
    "\n"
   ]
  },
  {
   "cell_type": "markdown",
   "metadata": {},
   "source": [
    "## Create New User, Database, and Tables using Pqsl Shell"
   ]
  },
  {
   "cell_type": "markdown",
   "metadata": {},
   "source": [
    "Creating two new tables to store the csv data using the psql shell"
   ]
  },
  {
   "cell_type": "markdown",
   "metadata": {},
   "source": [
    "    postgres=# CREATE ROLE oracle password 'welcome1' SUPERUSER CREATEDB CREATEROLE INHERIT LOGIN;\n",
    "    CREATE ROLE\n",
    "    postgres=# \\du\n",
    "                                   List of roles\n",
    "     Role name |                         Attributes                         | Member of\n",
    "    -----------+------------------------------------------------------------+-----------\n",
    "     aig       | Superuser                                                  | {}\n",
    "     oracle    | Superuser, Create role, Create DB                          | {}\n",
    "     postgres  | Superuser, Create role, Create DB, Replication, Bypass RLS | {}\n",
    "     sec       | Create DB                                                  | {}\n",
    "     \n",
    "     postgres=# SET ROLE oracle;\n",
    "     SET\n",
    "     "
   ]
  },
  {
   "cell_type": "markdown",
   "metadata": {},
   "source": [
    "    postgres=# CREATE database consumer_complaints;\n",
    "    CREATE DATABASE\n",
    "    postgres=# \\l\n",
    "                                                     List of databases\n",
    "            Name         |  Owner   | Encoding |          Collate          |           Ctype           |   Access privileges\n",
    "    ---------------------+----------+----------+---------------------------+---------------------------+-----------------------\n",
    "     bank_account        | postgres | UTF8     | Indonesian_Indonesia.1252 | Indonesian_Indonesia.1252 |\n",
    "     consumer_complaints | oracle   | UTF8     | Indonesian_Indonesia.1252 | Indonesian_Indonesia.1252 |\n",
    "     income              | postgres | UTF8     | Indonesian_Indonesia.1252 | Indonesian_Indonesia.1252 |\n",
    "     postgres            | postgres | UTF8     | Indonesian_Indonesia.1252 | Indonesian_Indonesia.1252 |\n",
    "     template0           | postgres | UTF8     | Indonesian_Indonesia.1252 | Indonesian_Indonesia.1252 | =c/postgres          +\n",
    "                         |          |          |                           |                           | postgres=CTc/postgres\n",
    "     template1           | postgres | UTF8     | Indonesian_Indonesia.1252 | Indonesian_Indonesia.1252 | =c/postgres          +\n",
    "                         |          |          |                           |                           | postgres=CTc/postgres\n",
    "    (6 rows)\n",
    "    \n",
    "    postgres=# \\connect consumer_complaints\n",
    "    consumer_complaints=#"
   ]
  },
  {
   "cell_type": "markdown",
   "metadata": {},
   "source": [
    "### Creating tables for the data"
   ]
  },
  {
   "cell_type": "markdown",
   "metadata": {},
   "source": [
    "    consumer_complaints=# CREATE TABLE credit_card_complaints (complaint_id text PRIMARY KEY,date_received date,product text,sub_product text,issue text,sub_issue text,consumer_complaint_narrative text,co\n",
    "    mpany_public_response text,company text,state text,zip_code text,tags text,consumer_consent_provided text,submitted_via text,date_sent date,company_response_to_consumer text,timely_response text,consu\n",
    "    mer_disputed text);\n",
    "    CREATE TABLE\n",
    "    consumer_complaints=# CREATE TABLE bank_account_complaints (complaint_id text PRIMARY KEY,date_received date,product text,sub_product text,issue text,sub_issue text,consumer_complaint_narrative text,c\n",
    "    ompany_public_response text,company text,state text,zip_code text,tags text,consumer_consent_provided text,submitted_via text,date_sent date,company_response_to_consumer text,timely_response text,cons\n",
    "    umer_disputed text);\n",
    "    CREATE TABLE\n",
    "    consumer_complaints=# \\dt\n",
    "                 List of relations\n",
    "     Schema |          Name           | Type  | Owner\n",
    "    --------+-------------------------+-------+--------\n",
    "     public | bank_account_complaints | table | oracle\n",
    "     public | credit_card_complaints  | table | oracle\n",
    "    (2 rows)"
   ]
  },
  {
   "cell_type": "markdown",
   "metadata": {},
   "source": [
    "## Loading Data into the Database"
   ]
  },
  {
   "cell_type": "markdown",
   "metadata": {},
   "source": [
    "    consumer_complaints=# \\COPY credit_card_complaints (date_received,product,sub_product,issue,sub_issue,consumer_complaint_narrative,company_public_response,company,state,zip_code,tags,consumer_consent_\n",
    "    provided,submitted_via,date_sent,company_response_to_consumer,timely_response,consumer_disputed,complaint_id) FROM './Credit_Card_Complaints.csv' WITH CSV HEADER;\n",
    "    COPY 87718\n",
    "    \n",
    "    consumer_complaints=# \\COPY bank_account_complaints (date_received,product,sub_product,issue,sub_issue,consumer_complaint_narrative,company_public_response,company,state,zip_code,tags,consumer_consent\n",
    "    _provided,submitted_via,date_sent,company_response_to_consumer,timely_response,consumer_disputed,complaint_id) FROM './Bank_Account_or_Service_Complaints.csv' WITH CSV HEADER;\n",
    "    COPY 84811"
   ]
  },
  {
   "cell_type": "markdown",
   "metadata": {},
   "source": [
    "## Querying Postgres Database"
   ]
  },
  {
   "cell_type": "markdown",
   "metadata": {},
   "source": [
    "Run queries directly from psql shell can be difficult to understand the results, especially with many rows and columns.\n",
    "\n",
    "Using the Pandas module, which will allow to store the results into a Dataframe object. This will make it easier to visualize and analyze the results. "
   ]
  },
  {
   "cell_type": "code",
   "execution_count": 1,
   "metadata": {
    "collapsed": true
   },
   "outputs": [],
   "source": [
    "import pandas as pd\n",
    "\n",
    "# psycopg2 lets us easily run commands against our db\n",
    "\n",
    "import psycopg2\n",
    "conn = psycopg2.connect(\"dbname=consumer_complaints user=oracle\")\n",
    "conn.autocommit = True\n",
    "cur = conn.cursor()\n",
    "\n",
    "def run_command(command):\n",
    "    cur.execute(command)\n",
    "    return cur.statusmessage\n",
    "\n",
    "# sqlalchemy is needed to allow pandas to seemlessly connect to run queries\n",
    "\n",
    "from sqlalchemy import create_engine\n",
    "engine = create_engine('postgresql://oracle@localhost/consumer_complaints')\n",
    "\n",
    "def run_query(query):\n",
    "    return pd.read_sql_query(query,con=engine)"
   ]
  },
  {
   "cell_type": "code",
   "execution_count": 2,
   "metadata": {
    "collapsed": false
   },
   "outputs": [
    {
     "data": {
      "text/html": [
       "<div>\n",
       "<table border=\"1\" class=\"dataframe\">\n",
       "  <thead>\n",
       "    <tr style=\"text-align: right;\">\n",
       "      <th></th>\n",
       "      <th>count</th>\n",
       "    </tr>\n",
       "  </thead>\n",
       "  <tbody>\n",
       "    <tr>\n",
       "      <th>0</th>\n",
       "      <td>87718</td>\n",
       "    </tr>\n",
       "  </tbody>\n",
       "</table>\n",
       "</div>"
      ],
      "text/plain": [
       "   count\n",
       "0  87718"
      ]
     },
     "execution_count": 2,
     "metadata": {},
     "output_type": "execute_result"
    }
   ],
   "source": [
    "query = 'SELECT count(*) FROM credit_card_complaints;'\n",
    "run_query(query)"
   ]
  },
  {
   "cell_type": "code",
   "execution_count": 3,
   "metadata": {
    "collapsed": false
   },
   "outputs": [
    {
     "data": {
      "text/html": [
       "<div>\n",
       "<table border=\"1\" class=\"dataframe\">\n",
       "  <thead>\n",
       "    <tr style=\"text-align: right;\">\n",
       "      <th></th>\n",
       "      <th>count</th>\n",
       "    </tr>\n",
       "  </thead>\n",
       "  <tbody>\n",
       "    <tr>\n",
       "      <th>0</th>\n",
       "      <td>84811</td>\n",
       "    </tr>\n",
       "  </tbody>\n",
       "</table>\n",
       "</div>"
      ],
      "text/plain": [
       "   count\n",
       "0  84811"
      ]
     },
     "execution_count": 3,
     "metadata": {},
     "output_type": "execute_result"
    }
   ],
   "source": [
    "query = 'SELECT count(*) FROM bank_account_complaints;'\n",
    "run_query(query)"
   ]
  },
  {
   "cell_type": "markdown",
   "metadata": {},
   "source": [
    "## Counting with Conditionals"
   ]
  },
  {
   "cell_type": "markdown",
   "metadata": {},
   "source": [
    "See how many records in each table have null values for the consumer complaint narrative field, starting with the credit_card_complaints table."
   ]
  },
  {
   "cell_type": "code",
   "execution_count": 4,
   "metadata": {
    "collapsed": false
   },
   "outputs": [
    {
     "data": {
      "text/html": [
       "<div>\n",
       "<table border=\"1\" class=\"dataframe\">\n",
       "  <thead>\n",
       "    <tr style=\"text-align: right;\">\n",
       "      <th></th>\n",
       "      <th>count</th>\n",
       "    </tr>\n",
       "  </thead>\n",
       "  <tbody>\n",
       "    <tr>\n",
       "      <th>0</th>\n",
       "      <td>17433</td>\n",
       "    </tr>\n",
       "  </tbody>\n",
       "</table>\n",
       "</div>"
      ],
      "text/plain": [
       "   count\n",
       "0  17433"
      ]
     },
     "execution_count": 4,
     "metadata": {},
     "output_type": "execute_result"
    }
   ],
   "source": [
    "query = '''\n",
    "SELECT count(*) FROM credit_card_complaints \n",
    "WHERE consumer_complaint_narrative IS NOT NULL;\n",
    "'''\n",
    "run_query(query)"
   ]
  },
  {
   "cell_type": "code",
   "execution_count": 5,
   "metadata": {
    "collapsed": false
   },
   "outputs": [
    {
     "data": {
      "text/html": [
       "<div>\n",
       "<table border=\"1\" class=\"dataframe\">\n",
       "  <thead>\n",
       "    <tr style=\"text-align: right;\">\n",
       "      <th></th>\n",
       "      <th>count</th>\n",
       "    </tr>\n",
       "  </thead>\n",
       "  <tbody>\n",
       "    <tr>\n",
       "      <th>0</th>\n",
       "      <td>70285</td>\n",
       "    </tr>\n",
       "  </tbody>\n",
       "</table>\n",
       "</div>"
      ],
      "text/plain": [
       "   count\n",
       "0  70285"
      ]
     },
     "execution_count": 5,
     "metadata": {},
     "output_type": "execute_result"
    }
   ],
   "source": [
    "query = '''\n",
    "SELECT count(*) FROM credit_card_complaints\n",
    "WHERE consumer_complaint_narrative IS NULL;\n",
    "'''\n",
    "run_query(query)"
   ]
  },
  {
   "cell_type": "markdown",
   "metadata": {},
   "source": [
    "Look at null values for the consumer_complaint_narrative column for the bank_account_complaints table."
   ]
  },
  {
   "cell_type": "code",
   "execution_count": 6,
   "metadata": {
    "collapsed": false
   },
   "outputs": [
    {
     "data": {
      "text/html": [
       "<div>\n",
       "<table border=\"1\" class=\"dataframe\">\n",
       "  <thead>\n",
       "    <tr style=\"text-align: right;\">\n",
       "      <th></th>\n",
       "      <th>count</th>\n",
       "    </tr>\n",
       "  </thead>\n",
       "  <tbody>\n",
       "    <tr>\n",
       "      <th>0</th>\n",
       "      <td>13860</td>\n",
       "    </tr>\n",
       "  </tbody>\n",
       "</table>\n",
       "</div>"
      ],
      "text/plain": [
       "   count\n",
       "0  13860"
      ]
     },
     "execution_count": 6,
     "metadata": {},
     "output_type": "execute_result"
    }
   ],
   "source": [
    "query = '''\n",
    "SELECT count(*) FROM bank_account_complaints\n",
    "WHERE consumer_complaint_narrative IS NOT NULL;\n",
    "'''\n",
    "run_query(query)"
   ]
  },
  {
   "cell_type": "code",
   "execution_count": 7,
   "metadata": {
    "collapsed": false
   },
   "outputs": [
    {
     "data": {
      "text/html": [
       "<div>\n",
       "<table border=\"1\" class=\"dataframe\">\n",
       "  <thead>\n",
       "    <tr style=\"text-align: right;\">\n",
       "      <th></th>\n",
       "      <th>count</th>\n",
       "    </tr>\n",
       "  </thead>\n",
       "  <tbody>\n",
       "    <tr>\n",
       "      <th>0</th>\n",
       "      <td>70951</td>\n",
       "    </tr>\n",
       "  </tbody>\n",
       "</table>\n",
       "</div>"
      ],
      "text/plain": [
       "   count\n",
       "0  70951"
      ]
     },
     "execution_count": 7,
     "metadata": {},
     "output_type": "execute_result"
    }
   ],
   "source": [
    "query = '''\n",
    "SELECT count(*) FROM bank_account_complaints\n",
    "WHERE consumer_complaint_narrative IS NULL;\n",
    "'''\n",
    "run_query(query)"
   ]
  },
  {
   "cell_type": "markdown",
   "metadata": {},
   "source": [
    "## Using Views"
   ]
  },
  {
   "cell_type": "markdown",
   "metadata": {},
   "source": [
    "Create four views based on two dimensions: by product (eg credit card vs bank account), and whether they contain null values for consumer complaint narrative.\n",
    "\n",
    "That four views will be called\n",
    "\n",
    "    credit_card_w_complaints\n",
    "    credit_card_wo_complaints\n",
    "    bank_account_w_complaints\n",
    "    bank_account_wo_complaints"
   ]
  },
  {
   "cell_type": "code",
   "execution_count": 8,
   "metadata": {
    "collapsed": false
   },
   "outputs": [
    {
     "data": {
      "text/plain": [
       "'CREATE VIEW'"
      ]
     },
     "execution_count": 8,
     "metadata": {},
     "output_type": "execute_result"
    }
   ],
   "source": [
    "command = '''\n",
    "CREATE VIEW credit_card_w_complaints AS\n",
    "    SELECT * FROM credit_card_complaints\n",
    "    WHERE consumer_complaint_narrative IS NOT NULL;\n",
    "'''\n",
    "run_command(command)"
   ]
  },
  {
   "cell_type": "code",
   "execution_count": 9,
   "metadata": {
    "collapsed": false
   },
   "outputs": [
    {
     "data": {
      "text/plain": [
       "'CREATE VIEW'"
      ]
     },
     "execution_count": 9,
     "metadata": {},
     "output_type": "execute_result"
    }
   ],
   "source": [
    "command = '''\n",
    "CREATE VIEW credit_card_wo_complaints as\n",
    "    SELECT * FROM credit_card_complaints\n",
    "    WHERE consumer_complaint_narrative IS NULL;\n",
    "'''\n",
    "run_command(command)"
   ]
  },
  {
   "cell_type": "code",
   "execution_count": 10,
   "metadata": {
    "collapsed": false
   },
   "outputs": [
    {
     "data": {
      "text/plain": [
       "'CREATE VIEW'"
      ]
     },
     "execution_count": 10,
     "metadata": {},
     "output_type": "execute_result"
    }
   ],
   "source": [
    "command = '''\n",
    "CREATE VIEW bank_account_w_complaints AS\n",
    "    SELECT * FROM bank_account_complaints\n",
    "    WHERE consumer_complaint_narrative IS NOT NULL;\n",
    "'''\n",
    "run_command(command)"
   ]
  },
  {
   "cell_type": "code",
   "execution_count": 11,
   "metadata": {
    "collapsed": false
   },
   "outputs": [
    {
     "data": {
      "text/plain": [
       "'CREATE VIEW'"
      ]
     },
     "execution_count": 11,
     "metadata": {},
     "output_type": "execute_result"
    }
   ],
   "source": [
    "command = '''\n",
    "CREATE VIEW bank_account_wo_complaints AS\n",
    "    SELECT * FROM bank_account_complaints\n",
    "    WHERE consumer_complaint_narrative IS NULL;\n",
    "'''\n",
    "run_command(command)"
   ]
  },
  {
   "cell_type": "markdown",
   "metadata": {},
   "source": [
    "Take a quick look at credit_card_w_complaints, see that it works just like a table."
   ]
  },
  {
   "cell_type": "code",
   "execution_count": 13,
   "metadata": {
    "collapsed": false
   },
   "outputs": [
    {
     "data": {
      "text/html": [
       "<div>\n",
       "<table border=\"1\" class=\"dataframe\">\n",
       "  <thead>\n",
       "    <tr style=\"text-align: right;\">\n",
       "      <th></th>\n",
       "      <th>complaint_id</th>\n",
       "      <th>date_received</th>\n",
       "      <th>product</th>\n",
       "      <th>sub_product</th>\n",
       "      <th>issue</th>\n",
       "      <th>sub_issue</th>\n",
       "      <th>consumer_complaint_narrative</th>\n",
       "      <th>company_public_response</th>\n",
       "      <th>company</th>\n",
       "      <th>state</th>\n",
       "      <th>zip_code</th>\n",
       "      <th>tags</th>\n",
       "      <th>consumer_consent_provided</th>\n",
       "      <th>submitted_via</th>\n",
       "      <th>date_sent</th>\n",
       "      <th>company_response_to_consumer</th>\n",
       "      <th>timely_response</th>\n",
       "      <th>consumer_disputed</th>\n",
       "    </tr>\n",
       "  </thead>\n",
       "  <tbody>\n",
       "    <tr>\n",
       "      <th>0</th>\n",
       "      <td>1297939</td>\n",
       "      <td>2015-03-24</td>\n",
       "      <td>Credit card</td>\n",
       "      <td>None</td>\n",
       "      <td>Other</td>\n",
       "      <td>None</td>\n",
       "      <td>Received Capital One charge card offer XXXX. A...</td>\n",
       "      <td>None</td>\n",
       "      <td>Capital One</td>\n",
       "      <td>OH</td>\n",
       "      <td>440XX</td>\n",
       "      <td>None</td>\n",
       "      <td>Consent provided</td>\n",
       "      <td>Web</td>\n",
       "      <td>2015-03-30</td>\n",
       "      <td>Closed with explanation</td>\n",
       "      <td>Yes</td>\n",
       "      <td>No</td>\n",
       "    </tr>\n",
       "    <tr>\n",
       "      <th>1</th>\n",
       "      <td>1296693</td>\n",
       "      <td>2015-03-23</td>\n",
       "      <td>Credit card</td>\n",
       "      <td>None</td>\n",
       "      <td>Rewards</td>\n",
       "      <td>None</td>\n",
       "      <td>I 'm a longtime member of Charter One Bank/RBS...</td>\n",
       "      <td>None</td>\n",
       "      <td>Citizens Financial Group, Inc.</td>\n",
       "      <td>MI</td>\n",
       "      <td>482XX</td>\n",
       "      <td>None</td>\n",
       "      <td>Consent provided</td>\n",
       "      <td>Web</td>\n",
       "      <td>2015-03-23</td>\n",
       "      <td>Closed with explanation</td>\n",
       "      <td>Yes</td>\n",
       "      <td>Yes</td>\n",
       "    </tr>\n",
       "    <tr>\n",
       "      <th>2</th>\n",
       "      <td>1295056</td>\n",
       "      <td>2015-03-23</td>\n",
       "      <td>Credit card</td>\n",
       "      <td>None</td>\n",
       "      <td>Other</td>\n",
       "      <td>None</td>\n",
       "      <td>I attempted to apply for a Discover Card Onlin...</td>\n",
       "      <td>None</td>\n",
       "      <td>Discover</td>\n",
       "      <td>MD</td>\n",
       "      <td>217XX</td>\n",
       "      <td>None</td>\n",
       "      <td>Consent provided</td>\n",
       "      <td>Web</td>\n",
       "      <td>2015-03-23</td>\n",
       "      <td>Closed with non-monetary relief</td>\n",
       "      <td>Yes</td>\n",
       "      <td>No</td>\n",
       "    </tr>\n",
       "    <tr>\n",
       "      <th>3</th>\n",
       "      <td>1296880</td>\n",
       "      <td>2015-03-23</td>\n",
       "      <td>Credit card</td>\n",
       "      <td>None</td>\n",
       "      <td>Late fee</td>\n",
       "      <td>None</td>\n",
       "      <td>XXXX Card services was bought out by Capital O...</td>\n",
       "      <td>None</td>\n",
       "      <td>Capital One</td>\n",
       "      <td>MI</td>\n",
       "      <td>488XX</td>\n",
       "      <td>None</td>\n",
       "      <td>Consent provided</td>\n",
       "      <td>Web</td>\n",
       "      <td>2015-03-23</td>\n",
       "      <td>Closed with monetary relief</td>\n",
       "      <td>Yes</td>\n",
       "      <td>No</td>\n",
       "    </tr>\n",
       "    <tr>\n",
       "      <th>4</th>\n",
       "      <td>1296890</td>\n",
       "      <td>2015-03-23</td>\n",
       "      <td>Credit card</td>\n",
       "      <td>None</td>\n",
       "      <td>Billing disputes</td>\n",
       "      <td>None</td>\n",
       "      <td>I was reported late by Discover Card to the re...</td>\n",
       "      <td>None</td>\n",
       "      <td>Discover</td>\n",
       "      <td>OK</td>\n",
       "      <td>741XX</td>\n",
       "      <td>Servicemember</td>\n",
       "      <td>Consent provided</td>\n",
       "      <td>Web</td>\n",
       "      <td>2015-03-23</td>\n",
       "      <td>Closed with explanation</td>\n",
       "      <td>Yes</td>\n",
       "      <td>No</td>\n",
       "    </tr>\n",
       "  </tbody>\n",
       "</table>\n",
       "</div>"
      ],
      "text/plain": [
       "  complaint_id date_received      product sub_product             issue  \\\n",
       "0      1297939    2015-03-24  Credit card        None             Other   \n",
       "1      1296693    2015-03-23  Credit card        None           Rewards   \n",
       "2      1295056    2015-03-23  Credit card        None             Other   \n",
       "3      1296880    2015-03-23  Credit card        None          Late fee   \n",
       "4      1296890    2015-03-23  Credit card        None  Billing disputes   \n",
       "\n",
       "  sub_issue                       consumer_complaint_narrative  \\\n",
       "0      None  Received Capital One charge card offer XXXX. A...   \n",
       "1      None  I 'm a longtime member of Charter One Bank/RBS...   \n",
       "2      None  I attempted to apply for a Discover Card Onlin...   \n",
       "3      None  XXXX Card services was bought out by Capital O...   \n",
       "4      None  I was reported late by Discover Card to the re...   \n",
       "\n",
       "  company_public_response                         company state zip_code  \\\n",
       "0                    None                     Capital One    OH    440XX   \n",
       "1                    None  Citizens Financial Group, Inc.    MI    482XX   \n",
       "2                    None                        Discover    MD    217XX   \n",
       "3                    None                     Capital One    MI    488XX   \n",
       "4                    None                        Discover    OK    741XX   \n",
       "\n",
       "            tags consumer_consent_provided submitted_via   date_sent  \\\n",
       "0           None          Consent provided           Web  2015-03-30   \n",
       "1           None          Consent provided           Web  2015-03-23   \n",
       "2           None          Consent provided           Web  2015-03-23   \n",
       "3           None          Consent provided           Web  2015-03-23   \n",
       "4  Servicemember          Consent provided           Web  2015-03-23   \n",
       "\n",
       "      company_response_to_consumer timely_response consumer_disputed  \n",
       "0          Closed with explanation             Yes                No  \n",
       "1          Closed with explanation             Yes               Yes  \n",
       "2  Closed with non-monetary relief             Yes                No  \n",
       "3      Closed with monetary relief             Yes                No  \n",
       "4          Closed with explanation             Yes                No  "
      ]
     },
     "execution_count": 13,
     "metadata": {},
     "output_type": "execute_result"
    }
   ],
   "source": [
    "query = '''\n",
    "SELECT * FROM credit_card_w_complaints LIMIT 5;\n",
    "'''\n",
    "run_query(query)"
   ]
  },
  {
   "cell_type": "markdown",
   "metadata": {},
   "source": [
    "## Union/Union All"
   ]
  },
  {
   "cell_type": "markdown",
   "metadata": {},
   "source": [
    "Create two new views that will essentially consolidate the four current views down to two by performing a union on each products’ views."
   ]
  },
  {
   "cell_type": "code",
   "execution_count": 14,
   "metadata": {
    "collapsed": false
   },
   "outputs": [
    {
     "data": {
      "text/plain": [
       "'CREATE VIEW'"
      ]
     },
     "execution_count": 14,
     "metadata": {},
     "output_type": "execute_result"
    }
   ],
   "source": [
    "command = '''\n",
    "CREATE VIEW with_complaints AS\n",
    "    SELECT * from credit_card_w_complaints\n",
    "    UNION ALL\n",
    "    SELECT * from bank_account_w_complaints;\n",
    "'''\n",
    "run_command(command)"
   ]
  },
  {
   "cell_type": "code",
   "execution_count": 15,
   "metadata": {
    "collapsed": false
   },
   "outputs": [
    {
     "data": {
      "text/plain": [
       "'CREATE VIEW'"
      ]
     },
     "execution_count": 15,
     "metadata": {},
     "output_type": "execute_result"
    }
   ],
   "source": [
    "command = '''\n",
    "CREATE VIEW without_complaints AS\n",
    "    SELECT * FROM credit_card_wo_complaints\n",
    "    UNION ALL\n",
    "    SELECT * FROM bank_account_wo_complaints;\n",
    "'''\n",
    "run_command(command)"
   ]
  },
  {
   "cell_type": "markdown",
   "metadata": {},
   "source": [
    "## Intersect/Except"
   ]
  },
  {
   "cell_type": "markdown",
   "metadata": {},
   "source": [
    "Validate to make sure the new views were created correctly"
   ]
  },
  {
   "cell_type": "code",
   "execution_count": 17,
   "metadata": {
    "collapsed": false
   },
   "outputs": [
    {
     "data": {
      "text/html": [
       "<div>\n",
       "<table border=\"1\" class=\"dataframe\">\n",
       "  <thead>\n",
       "    <tr style=\"text-align: right;\">\n",
       "      <th></th>\n",
       "      <th>count</th>\n",
       "    </tr>\n",
       "  </thead>\n",
       "  <tbody>\n",
       "    <tr>\n",
       "      <th>0</th>\n",
       "      <td>70285</td>\n",
       "    </tr>\n",
       "  </tbody>\n",
       "</table>\n",
       "</div>"
      ],
      "text/plain": [
       "   count\n",
       "0  70285"
      ]
     },
     "execution_count": 17,
     "metadata": {},
     "output_type": "execute_result"
    }
   ],
   "source": [
    "query = 'SELECT count(*) FROM credit_card_wo_complaints;'\n",
    "run_query(query)"
   ]
  },
  {
   "cell_type": "code",
   "execution_count": 18,
   "metadata": {
    "collapsed": false
   },
   "outputs": [
    {
     "data": {
      "text/html": [
       "<div>\n",
       "<table border=\"1\" class=\"dataframe\">\n",
       "  <thead>\n",
       "    <tr style=\"text-align: right;\">\n",
       "      <th></th>\n",
       "      <th>count</th>\n",
       "    </tr>\n",
       "  </thead>\n",
       "  <tbody>\n",
       "    <tr>\n",
       "      <th>0</th>\n",
       "      <td>70285</td>\n",
       "    </tr>\n",
       "  </tbody>\n",
       "</table>\n",
       "</div>"
      ],
      "text/plain": [
       "   count\n",
       "0  70285"
      ]
     },
     "execution_count": 18,
     "metadata": {},
     "output_type": "execute_result"
    }
   ],
   "source": [
    "query = '''\n",
    "SELECT count(*)\n",
    "FROM (SELECT * FROM without_complaints\n",
    "      INTERSECT\n",
    "      SELECT * FROM credit_card_wo_complaints) ppg;\n",
    "'''\n",
    "run_query(query)"
   ]
  },
  {
   "cell_type": "code",
   "execution_count": 19,
   "metadata": {
    "collapsed": false
   },
   "outputs": [
    {
     "data": {
      "text/html": [
       "<div>\n",
       "<table border=\"1\" class=\"dataframe\">\n",
       "  <thead>\n",
       "    <tr style=\"text-align: right;\">\n",
       "      <th></th>\n",
       "      <th>count</th>\n",
       "    </tr>\n",
       "  </thead>\n",
       "  <tbody>\n",
       "    <tr>\n",
       "      <th>0</th>\n",
       "      <td>70951</td>\n",
       "    </tr>\n",
       "  </tbody>\n",
       "</table>\n",
       "</div>"
      ],
      "text/plain": [
       "   count\n",
       "0  70951"
      ]
     },
     "execution_count": 19,
     "metadata": {},
     "output_type": "execute_result"
    }
   ],
   "source": [
    "query = '''\n",
    "SELECT count(*)\n",
    "FROM (SELECT * FROM without_complaints\n",
    "      EXCEPT\n",
    "      SELECT * FROM credit_card_wo_complaints) ppg;\n",
    "'''\n",
    "run_query(query)"
   ]
  },
  {
   "cell_type": "markdown",
   "metadata": {},
   "source": [
    "## String Concatenation"
   ]
  },
  {
   "cell_type": "markdown",
   "metadata": {},
   "source": [
    "String concatenation is simply combining two or more strings (text values) together into a single string."
   ]
  },
  {
   "cell_type": "code",
   "execution_count": 20,
   "metadata": {
    "collapsed": false
   },
   "outputs": [
    {
     "data": {
      "text/html": [
       "<div>\n",
       "<table border=\"1\" class=\"dataframe\">\n",
       "  <thead>\n",
       "    <tr style=\"text-align: right;\">\n",
       "      <th></th>\n",
       "      <th>complaint_id</th>\n",
       "      <th>product</th>\n",
       "      <th>company</th>\n",
       "      <th>zip_code</th>\n",
       "      <th>concat</th>\n",
       "    </tr>\n",
       "  </thead>\n",
       "  <tbody>\n",
       "    <tr>\n",
       "      <th>0</th>\n",
       "      <td>469026</td>\n",
       "      <td>Credit card</td>\n",
       "      <td>Citibank</td>\n",
       "      <td>45247</td>\n",
       "      <td>469026-Credit card-Citibank-45247</td>\n",
       "    </tr>\n",
       "    <tr>\n",
       "      <th>1</th>\n",
       "      <td>469131</td>\n",
       "      <td>Credit card</td>\n",
       "      <td>Synchrony Financial</td>\n",
       "      <td>98548</td>\n",
       "      <td>469131-Credit card-Synchrony Financial-98548</td>\n",
       "    </tr>\n",
       "    <tr>\n",
       "      <th>2</th>\n",
       "      <td>479990</td>\n",
       "      <td>Credit card</td>\n",
       "      <td>Amex</td>\n",
       "      <td>78232</td>\n",
       "      <td>479990-Credit card-Amex-78232</td>\n",
       "    </tr>\n",
       "    <tr>\n",
       "      <th>3</th>\n",
       "      <td>475777</td>\n",
       "      <td>Credit card</td>\n",
       "      <td>Capital One</td>\n",
       "      <td>32226</td>\n",
       "      <td>475777-Credit card-Capital One-32226</td>\n",
       "    </tr>\n",
       "    <tr>\n",
       "      <th>4</th>\n",
       "      <td>469473</td>\n",
       "      <td>Credit card</td>\n",
       "      <td>Citibank</td>\n",
       "      <td>53066</td>\n",
       "      <td>469473-Credit card-Citibank-53066</td>\n",
       "    </tr>\n",
       "    <tr>\n",
       "      <th>5</th>\n",
       "      <td>470828</td>\n",
       "      <td>Credit card</td>\n",
       "      <td>Wells Fargo &amp; Company</td>\n",
       "      <td>89108</td>\n",
       "      <td>470828-Credit card-Wells Fargo &amp; Company-89108</td>\n",
       "    </tr>\n",
       "    <tr>\n",
       "      <th>6</th>\n",
       "      <td>470852</td>\n",
       "      <td>Credit card</td>\n",
       "      <td>Citibank</td>\n",
       "      <td>78249</td>\n",
       "      <td>470852-Credit card-Citibank-78249</td>\n",
       "    </tr>\n",
       "    <tr>\n",
       "      <th>7</th>\n",
       "      <td>479338</td>\n",
       "      <td>Credit card</td>\n",
       "      <td>JPMorgan Chase &amp; Co.</td>\n",
       "      <td>19809</td>\n",
       "      <td>479338-Credit card-JPMorgan Chase &amp; Co.-19809</td>\n",
       "    </tr>\n",
       "    <tr>\n",
       "      <th>8</th>\n",
       "      <td>480935</td>\n",
       "      <td>Credit card</td>\n",
       "      <td>Citibank</td>\n",
       "      <td>07018</td>\n",
       "      <td>480935-Credit card-Citibank-07018</td>\n",
       "    </tr>\n",
       "    <tr>\n",
       "      <th>9</th>\n",
       "      <td>469738</td>\n",
       "      <td>Credit card</td>\n",
       "      <td>Wells Fargo &amp; Company</td>\n",
       "      <td>95409</td>\n",
       "      <td>469738-Credit card-Wells Fargo &amp; Company-95409</td>\n",
       "    </tr>\n",
       "  </tbody>\n",
       "</table>\n",
       "</div>"
      ],
      "text/plain": [
       "  complaint_id      product                company zip_code  \\\n",
       "0       469026  Credit card               Citibank    45247   \n",
       "1       469131  Credit card    Synchrony Financial    98548   \n",
       "2       479990  Credit card                   Amex    78232   \n",
       "3       475777  Credit card            Capital One    32226   \n",
       "4       469473  Credit card               Citibank    53066   \n",
       "5       470828  Credit card  Wells Fargo & Company    89108   \n",
       "6       470852  Credit card               Citibank    78249   \n",
       "7       479338  Credit card   JPMorgan Chase & Co.    19809   \n",
       "8       480935  Credit card               Citibank    07018   \n",
       "9       469738  Credit card  Wells Fargo & Company    95409   \n",
       "\n",
       "                                           concat  \n",
       "0               469026-Credit card-Citibank-45247  \n",
       "1    469131-Credit card-Synchrony Financial-98548  \n",
       "2                   479990-Credit card-Amex-78232  \n",
       "3            475777-Credit card-Capital One-32226  \n",
       "4               469473-Credit card-Citibank-53066  \n",
       "5  470828-Credit card-Wells Fargo & Company-89108  \n",
       "6               470852-Credit card-Citibank-78249  \n",
       "7   479338-Credit card-JPMorgan Chase & Co.-19809  \n",
       "8               480935-Credit card-Citibank-07018  \n",
       "9  469738-Credit card-Wells Fargo & Company-95409  "
      ]
     },
     "execution_count": 20,
     "metadata": {},
     "output_type": "execute_result"
    }
   ],
   "source": [
    "query = '''\n",
    "SELECT complaint_id, product, company, zip_code,\n",
    "       complaint_id || '-' || product || '-' || company || '-' || zip_code AS concat\n",
    "FROM credit_card_complaints \n",
    "LIMIT 10\n",
    "'''\n",
    "run_query(query)"
   ]
  },
  {
   "cell_type": "markdown",
   "metadata": {},
   "source": [
    "## Subqueries"
   ]
  },
  {
   "cell_type": "markdown",
   "metadata": {},
   "source": [
    "Subqueries help to simplify otherwise complex queries and allow for more flexibility"
   ]
  },
  {
   "cell_type": "code",
   "execution_count": 21,
   "metadata": {
    "collapsed": false
   },
   "outputs": [
    {
     "data": {
      "text/html": [
       "<div>\n",
       "<table border=\"1\" class=\"dataframe\">\n",
       "  <thead>\n",
       "    <tr style=\"text-align: right;\">\n",
       "      <th></th>\n",
       "      <th>complaint_id</th>\n",
       "      <th>product</th>\n",
       "      <th>company</th>\n",
       "      <th>zip_code</th>\n",
       "    </tr>\n",
       "  </thead>\n",
       "  <tbody>\n",
       "    <tr>\n",
       "      <th>0</th>\n",
       "      <td>24857</td>\n",
       "      <td>Credit card</td>\n",
       "      <td>Barclays PLC</td>\n",
       "      <td>91701</td>\n",
       "    </tr>\n",
       "    <tr>\n",
       "      <th>1</th>\n",
       "      <td>33157</td>\n",
       "      <td>Credit card</td>\n",
       "      <td>Citibank</td>\n",
       "      <td>91701</td>\n",
       "    </tr>\n",
       "    <tr>\n",
       "      <th>2</th>\n",
       "      <td>12245</td>\n",
       "      <td>Credit card</td>\n",
       "      <td>Bank of America</td>\n",
       "      <td>91701</td>\n",
       "    </tr>\n",
       "    <tr>\n",
       "      <th>3</th>\n",
       "      <td>3151</td>\n",
       "      <td>Credit card</td>\n",
       "      <td>Barclays PLC</td>\n",
       "      <td>91701</td>\n",
       "    </tr>\n",
       "    <tr>\n",
       "      <th>4</th>\n",
       "      <td>352534</td>\n",
       "      <td>Credit card</td>\n",
       "      <td>Citibank</td>\n",
       "      <td>91701</td>\n",
       "    </tr>\n",
       "    <tr>\n",
       "      <th>5</th>\n",
       "      <td>1963836</td>\n",
       "      <td>Credit card</td>\n",
       "      <td>JPMorgan Chase &amp; Co.</td>\n",
       "      <td>91701</td>\n",
       "    </tr>\n",
       "    <tr>\n",
       "      <th>6</th>\n",
       "      <td>2178015</td>\n",
       "      <td>Credit card</td>\n",
       "      <td>Discover</td>\n",
       "      <td>91701</td>\n",
       "    </tr>\n",
       "    <tr>\n",
       "      <th>7</th>\n",
       "      <td>2234754</td>\n",
       "      <td>Credit card</td>\n",
       "      <td>Discover</td>\n",
       "      <td>91701</td>\n",
       "    </tr>\n",
       "    <tr>\n",
       "      <th>8</th>\n",
       "      <td>2235915</td>\n",
       "      <td>Credit card</td>\n",
       "      <td>Discover</td>\n",
       "      <td>91701</td>\n",
       "    </tr>\n",
       "  </tbody>\n",
       "</table>\n",
       "</div>"
      ],
      "text/plain": [
       "  complaint_id      product               company zip_code\n",
       "0        24857  Credit card          Barclays PLC    91701\n",
       "1        33157  Credit card              Citibank    91701\n",
       "2        12245  Credit card       Bank of America    91701\n",
       "3         3151  Credit card          Barclays PLC    91701\n",
       "4       352534  Credit card              Citibank    91701\n",
       "5      1963836  Credit card  JPMorgan Chase & Co.    91701\n",
       "6      2178015  Credit card              Discover    91701\n",
       "7      2234754  Credit card              Discover    91701\n",
       "8      2235915  Credit card              Discover    91701"
      ]
     },
     "execution_count": 21,
     "metadata": {},
     "output_type": "execute_result"
    }
   ],
   "source": [
    "query = '''\n",
    "SELECT ccd.complaint_id, ccd.product, ccd.company, ccd.zip_code\n",
    "FROM (SELECT complaint_id, product, company, zip_code\n",
    "      FROM credit_card_complaints\n",
    "      WHERE zip_code = '91701') ccd \n",
    "LIMIT 10;\n",
    "'''\n",
    "run_query(query)"
   ]
  },
  {
   "cell_type": "code",
   "execution_count": 22,
   "metadata": {
    "collapsed": false
   },
   "outputs": [
    {
     "data": {
      "text/html": [
       "<div>\n",
       "<table border=\"1\" class=\"dataframe\">\n",
       "  <thead>\n",
       "    <tr style=\"text-align: right;\">\n",
       "      <th></th>\n",
       "      <th>company</th>\n",
       "      <th>state</th>\n",
       "      <th>zip_code</th>\n",
       "      <th>complaint_count</th>\n",
       "    </tr>\n",
       "  </thead>\n",
       "  <tbody>\n",
       "    <tr>\n",
       "      <th>0</th>\n",
       "      <td>Citibank</td>\n",
       "      <td>NY</td>\n",
       "      <td>100XX</td>\n",
       "      <td>80</td>\n",
       "    </tr>\n",
       "    <tr>\n",
       "      <th>1</th>\n",
       "      <td>Citibank</td>\n",
       "      <td>TX</td>\n",
       "      <td>750XX</td>\n",
       "      <td>67</td>\n",
       "    </tr>\n",
       "    <tr>\n",
       "      <th>2</th>\n",
       "      <td>Citibank</td>\n",
       "      <td>CA</td>\n",
       "      <td>945XX</td>\n",
       "      <td>58</td>\n",
       "    </tr>\n",
       "    <tr>\n",
       "      <th>3</th>\n",
       "      <td>Citibank</td>\n",
       "      <td>NY</td>\n",
       "      <td>112XX</td>\n",
       "      <td>52</td>\n",
       "    </tr>\n",
       "    <tr>\n",
       "      <th>4</th>\n",
       "      <td>Citibank</td>\n",
       "      <td>CA</td>\n",
       "      <td>900XX</td>\n",
       "      <td>50</td>\n",
       "    </tr>\n",
       "    <tr>\n",
       "      <th>5</th>\n",
       "      <td>Citibank</td>\n",
       "      <td>GA</td>\n",
       "      <td>300XX</td>\n",
       "      <td>46</td>\n",
       "    </tr>\n",
       "    <tr>\n",
       "      <th>6</th>\n",
       "      <td>Citibank</td>\n",
       "      <td>NJ</td>\n",
       "      <td>070XX</td>\n",
       "      <td>44</td>\n",
       "    </tr>\n",
       "    <tr>\n",
       "      <th>7</th>\n",
       "      <td>Citibank</td>\n",
       "      <td>IL</td>\n",
       "      <td>606XX</td>\n",
       "      <td>44</td>\n",
       "    </tr>\n",
       "    <tr>\n",
       "      <th>8</th>\n",
       "      <td>Citibank</td>\n",
       "      <td>FL</td>\n",
       "      <td>331XX</td>\n",
       "      <td>39</td>\n",
       "    </tr>\n",
       "    <tr>\n",
       "      <th>9</th>\n",
       "      <td>Citibank</td>\n",
       "      <td>CA</td>\n",
       "      <td>926XX</td>\n",
       "      <td>38</td>\n",
       "    </tr>\n",
       "  </tbody>\n",
       "</table>\n",
       "</div>"
      ],
      "text/plain": [
       "    company state zip_code  complaint_count\n",
       "0  Citibank    NY    100XX               80\n",
       "1  Citibank    TX    750XX               67\n",
       "2  Citibank    CA    945XX               58\n",
       "3  Citibank    NY    112XX               52\n",
       "4  Citibank    CA    900XX               50\n",
       "5  Citibank    GA    300XX               46\n",
       "6  Citibank    NJ    070XX               44\n",
       "7  Citibank    IL    606XX               44\n",
       "8  Citibank    FL    331XX               39\n",
       "9  Citibank    CA    926XX               38"
      ]
     },
     "execution_count": 22,
     "metadata": {},
     "output_type": "execute_result"
    }
   ],
   "source": [
    "query = '''\n",
    "SELECT company, state, zip_code, count(complaint_id) AS complaint_count\n",
    "FROM credit_card_complaints\n",
    "WHERE company = 'Citibank'\n",
    " AND state IS NOT NULL\n",
    "GROUP BY company, state, zip_code\n",
    "ORDER BY 4 DESC\n",
    "LIMIT 10;\n",
    "'''\n",
    "run_query(query)"
   ]
  },
  {
   "cell_type": "markdown",
   "metadata": {},
   "source": [
    "### See which companies receive the most complaints, and where the most complaints are generated from"
   ]
  },
  {
   "cell_type": "code",
   "execution_count": 23,
   "metadata": {
    "collapsed": false
   },
   "outputs": [
    {
     "data": {
      "text/html": [
       "<div>\n",
       "<table border=\"1\" class=\"dataframe\">\n",
       "  <thead>\n",
       "    <tr style=\"text-align: right;\">\n",
       "      <th></th>\n",
       "      <th>company</th>\n",
       "      <th>state</th>\n",
       "      <th>zip_code</th>\n",
       "      <th>complaint_count</th>\n",
       "    </tr>\n",
       "  </thead>\n",
       "  <tbody>\n",
       "    <tr>\n",
       "      <th>0</th>\n",
       "      <td>Citibank</td>\n",
       "      <td>NY</td>\n",
       "      <td>100XX</td>\n",
       "      <td>80</td>\n",
       "    </tr>\n",
       "  </tbody>\n",
       "</table>\n",
       "</div>"
      ],
      "text/plain": [
       "    company state zip_code  complaint_count\n",
       "0  Citibank    NY    100XX               80"
      ]
     },
     "execution_count": 23,
     "metadata": {},
     "output_type": "execute_result"
    }
   ],
   "source": [
    "query = '''\n",
    "SELECT ens.company, ens.state, ens.zip_code, ens.complaint_count\n",
    "FROM (select company, state, zip_code, count(complaint_id) AS complaint_count\n",
    "      FROM credit_card_complaints\n",
    "      WHERE state IS NOT NULL\n",
    "      GROUP BY company, state, zip_code) ens\n",
    "INNER JOIN\n",
    "   (SELECT ppx.company, max(ppx.complaint_count) AS complaint_count\n",
    "    FROM (SELECT ppt.company, ppt.state, max(ppt.complaint_count) AS complaint_count\n",
    "          FROM (SELECT company, state, zip_code, count(complaint_id) AS complaint_count\n",
    "                FROM credit_card_complaints\n",
    "                WHERE company = 'Citibank' \n",
    "                 AND state IS NOT NULL\n",
    "                GROUP BY company, state, zip_code\n",
    "                ORDER BY 4 DESC) ppt\n",
    "          GROUP BY ppt.company, ppt.state\n",
    "          ORDER BY 3 DESC) ppx\n",
    "    GROUP BY ppx.company) apx\n",
    "ON apx.company = ens.company\n",
    " AND apx.complaint_count = ens.complaint_count\n",
    "ORDER BY 4 DESC;\n",
    "'''\n",
    "run_query(query)"
   ]
  },
  {
   "cell_type": "code",
   "execution_count": 24,
   "metadata": {
    "collapsed": false
   },
   "outputs": [
    {
     "data": {
      "text/html": [
       "<div>\n",
       "<table border=\"1\" class=\"dataframe\">\n",
       "  <thead>\n",
       "    <tr style=\"text-align: right;\">\n",
       "      <th></th>\n",
       "      <th>company</th>\n",
       "      <th>state</th>\n",
       "      <th>zip_code</th>\n",
       "      <th>complaint_count</th>\n",
       "    </tr>\n",
       "  </thead>\n",
       "  <tbody>\n",
       "    <tr>\n",
       "      <th>0</th>\n",
       "      <td>Citibank</td>\n",
       "      <td>NY</td>\n",
       "      <td>100XX</td>\n",
       "      <td>80</td>\n",
       "    </tr>\n",
       "    <tr>\n",
       "      <th>1</th>\n",
       "      <td>JPMorgan Chase &amp; Co.</td>\n",
       "      <td>NY</td>\n",
       "      <td>100XX</td>\n",
       "      <td>44</td>\n",
       "    </tr>\n",
       "    <tr>\n",
       "      <th>2</th>\n",
       "      <td>Amex</td>\n",
       "      <td>NY</td>\n",
       "      <td>100XX</td>\n",
       "      <td>43</td>\n",
       "    </tr>\n",
       "    <tr>\n",
       "      <th>3</th>\n",
       "      <td>Bank of America</td>\n",
       "      <td>NY</td>\n",
       "      <td>10024</td>\n",
       "      <td>34</td>\n",
       "    </tr>\n",
       "    <tr>\n",
       "      <th>4</th>\n",
       "      <td>Capital One</td>\n",
       "      <td>NY</td>\n",
       "      <td>112XX</td>\n",
       "      <td>30</td>\n",
       "    </tr>\n",
       "    <tr>\n",
       "      <th>5</th>\n",
       "      <td>Capital One</td>\n",
       "      <td>GA</td>\n",
       "      <td>300XX</td>\n",
       "      <td>30</td>\n",
       "    </tr>\n",
       "    <tr>\n",
       "      <th>6</th>\n",
       "      <td>Synchrony Financial</td>\n",
       "      <td>NY</td>\n",
       "      <td>112XX</td>\n",
       "      <td>29</td>\n",
       "    </tr>\n",
       "    <tr>\n",
       "      <th>7</th>\n",
       "      <td>Barclays PLC</td>\n",
       "      <td>FL</td>\n",
       "      <td>337XX</td>\n",
       "      <td>28</td>\n",
       "    </tr>\n",
       "    <tr>\n",
       "      <th>8</th>\n",
       "      <td>Discover</td>\n",
       "      <td>MN</td>\n",
       "      <td>551XX</td>\n",
       "      <td>19</td>\n",
       "    </tr>\n",
       "    <tr>\n",
       "      <th>9</th>\n",
       "      <td>U.S. Bancorp</td>\n",
       "      <td>DC</td>\n",
       "      <td>200XX</td>\n",
       "      <td>19</td>\n",
       "    </tr>\n",
       "  </tbody>\n",
       "</table>\n",
       "</div>"
      ],
      "text/plain": [
       "                company state zip_code  complaint_count\n",
       "0              Citibank    NY    100XX               80\n",
       "1  JPMorgan Chase & Co.    NY    100XX               44\n",
       "2                  Amex    NY    100XX               43\n",
       "3       Bank of America    NY    10024               34\n",
       "4           Capital One    NY    112XX               30\n",
       "5           Capital One    GA    300XX               30\n",
       "6   Synchrony Financial    NY    112XX               29\n",
       "7          Barclays PLC    FL    337XX               28\n",
       "8              Discover    MN    551XX               19\n",
       "9          U.S. Bancorp    DC    200XX               19"
      ]
     },
     "execution_count": 24,
     "metadata": {},
     "output_type": "execute_result"
    }
   ],
   "source": [
    "query = '''\n",
    "SELECT ens.company, ens.state, ens.zip_code, ens.complaint_count\n",
    "FROM (SELECT company, state, zip_code, count(complaint_id) AS complaint_count\n",
    "      FROM credit_card_complaints\n",
    "      WHERE state IS NOT NULL\n",
    "      GROUP BY company, state, zip_code) ens\n",
    "INNER JOIN\n",
    "   (select ppx.company, max(ppx.complaint_count) AS complaint_count\n",
    "    FROM (select ppt.company, ppt.state, max(ppt.complaint_count) AS complaint_count\n",
    "          FROM (select company, state, zip_code, count(complaint_id) AS complaint_count\n",
    "                FROM credit_card_complaints\n",
    "                WHERE state IS NOT NULL\n",
    "                GROUP BY company, state, zip_code\n",
    "                ORDER BY 4 DESC) ppt\n",
    "          GROUP BY ppt.company, ppt.state\n",
    "          ORDER BY 3 DESC) ppx\n",
    "    GROUP BY ppx.company) apx\n",
    "ON apx.company = ens.company\n",
    "AND apx.complaint_count = ens.complaint_count\n",
    "ORDER BY 4 DESC\n",
    "LIMIT 10\n",
    "'''\n",
    "run_query(query)"
   ]
  },
  {
   "cell_type": "markdown",
   "metadata": {},
   "source": [
    "## Casting Data Types"
   ]
  },
  {
   "cell_type": "markdown",
   "metadata": {},
   "source": [
    "Run a query on the bank_account_complaints table to return the complaint_id as a float data type."
   ]
  },
  {
   "cell_type": "code",
   "execution_count": 25,
   "metadata": {
    "collapsed": false
   },
   "outputs": [
    {
     "data": {
      "text/html": [
       "<div>\n",
       "<table border=\"1\" class=\"dataframe\">\n",
       "  <thead>\n",
       "    <tr style=\"text-align: right;\">\n",
       "      <th></th>\n",
       "      <th>complaint_id</th>\n",
       "    </tr>\n",
       "  </thead>\n",
       "  <tbody>\n",
       "    <tr>\n",
       "      <th>0</th>\n",
       "      <td>468889.0</td>\n",
       "    </tr>\n",
       "    <tr>\n",
       "      <th>1</th>\n",
       "      <td>468879.0</td>\n",
       "    </tr>\n",
       "    <tr>\n",
       "      <th>2</th>\n",
       "      <td>468949.0</td>\n",
       "    </tr>\n",
       "    <tr>\n",
       "      <th>3</th>\n",
       "      <td>468981.0</td>\n",
       "    </tr>\n",
       "    <tr>\n",
       "      <th>4</th>\n",
       "      <td>469185.0</td>\n",
       "    </tr>\n",
       "    <tr>\n",
       "      <th>5</th>\n",
       "      <td>475273.0</td>\n",
       "    </tr>\n",
       "    <tr>\n",
       "      <th>6</th>\n",
       "      <td>469309.0</td>\n",
       "    </tr>\n",
       "    <tr>\n",
       "      <th>7</th>\n",
       "      <td>469414.0</td>\n",
       "    </tr>\n",
       "    <tr>\n",
       "      <th>8</th>\n",
       "      <td>469446.0</td>\n",
       "    </tr>\n",
       "    <tr>\n",
       "      <th>9</th>\n",
       "      <td>469447.0</td>\n",
       "    </tr>\n",
       "  </tbody>\n",
       "</table>\n",
       "</div>"
      ],
      "text/plain": [
       "   complaint_id\n",
       "0      468889.0\n",
       "1      468879.0\n",
       "2      468949.0\n",
       "3      468981.0\n",
       "4      469185.0\n",
       "5      475273.0\n",
       "6      469309.0\n",
       "7      469414.0\n",
       "8      469446.0\n",
       "9      469447.0"
      ]
     },
     "execution_count": 25,
     "metadata": {},
     "output_type": "execute_result"
    }
   ],
   "source": [
    "query = '''\n",
    "SELECT CAST(complaint_id AS float) AS complaint_id\n",
    "FROM bank_account_complaints LIMIT 10;'''\n",
    "run_query(query)"
   ]
  },
  {
   "cell_type": "markdown",
   "metadata": {},
   "source": [
    "Test the query that had define the new view. "
   ]
  },
  {
   "cell_type": "code",
   "execution_count": 27,
   "metadata": {
    "collapsed": false
   },
   "outputs": [
    {
     "data": {
      "text/html": [
       "<div>\n",
       "<table border=\"1\" class=\"dataframe\">\n",
       "  <thead>\n",
       "    <tr style=\"text-align: right;\">\n",
       "      <th></th>\n",
       "      <th>complaint_id</th>\n",
       "      <th>date_received</th>\n",
       "      <th>product</th>\n",
       "      <th>sub_product</th>\n",
       "      <th>issue</th>\n",
       "      <th>company</th>\n",
       "      <th>state</th>\n",
       "      <th>zip_code</th>\n",
       "      <th>submitted_via</th>\n",
       "      <th>date_sent</th>\n",
       "      <th>company_response_to_consumer</th>\n",
       "      <th>timely_response</th>\n",
       "      <th>consumer_disputed</th>\n",
       "    </tr>\n",
       "  </thead>\n",
       "  <tbody>\n",
       "    <tr>\n",
       "      <th>0</th>\n",
       "      <td>468889</td>\n",
       "      <td>2013-07-29</td>\n",
       "      <td>Bank account or service</td>\n",
       "      <td>Checking account</td>\n",
       "      <td>Using a debit or ATM card</td>\n",
       "      <td>Wells Fargo &amp; Company</td>\n",
       "      <td>CA</td>\n",
       "      <td>95992</td>\n",
       "      <td>Web</td>\n",
       "      <td>2013-07-31</td>\n",
       "      <td>Closed with explanation</td>\n",
       "      <td>Yes</td>\n",
       "      <td>No</td>\n",
       "    </tr>\n",
       "    <tr>\n",
       "      <th>1</th>\n",
       "      <td>469185</td>\n",
       "      <td>2013-07-29</td>\n",
       "      <td>Bank account or service</td>\n",
       "      <td>Other bank product/service</td>\n",
       "      <td>Deposits and withdrawals</td>\n",
       "      <td>Wells Fargo &amp; Company</td>\n",
       "      <td>CA</td>\n",
       "      <td>96088</td>\n",
       "      <td>Web</td>\n",
       "      <td>2013-08-01</td>\n",
       "      <td>Closed with explanation</td>\n",
       "      <td>Yes</td>\n",
       "      <td>No</td>\n",
       "    </tr>\n",
       "    <tr>\n",
       "      <th>2</th>\n",
       "      <td>469446</td>\n",
       "      <td>2013-07-29</td>\n",
       "      <td>Bank account or service</td>\n",
       "      <td>Checking account</td>\n",
       "      <td>Deposits and withdrawals</td>\n",
       "      <td>Wells Fargo &amp; Company</td>\n",
       "      <td>CA</td>\n",
       "      <td>92277</td>\n",
       "      <td>Web</td>\n",
       "      <td>2013-08-05</td>\n",
       "      <td>Closed with explanation</td>\n",
       "      <td>Yes</td>\n",
       "      <td>No</td>\n",
       "    </tr>\n",
       "    <tr>\n",
       "      <th>3</th>\n",
       "      <td>471075</td>\n",
       "      <td>2013-07-31</td>\n",
       "      <td>Bank account or service</td>\n",
       "      <td>Savings account</td>\n",
       "      <td>Account opening, closing, or management</td>\n",
       "      <td>Wells Fargo &amp; Company</td>\n",
       "      <td>CA</td>\n",
       "      <td>91214</td>\n",
       "      <td>Web</td>\n",
       "      <td>2013-08-02</td>\n",
       "      <td>Closed with explanation</td>\n",
       "      <td>Yes</td>\n",
       "      <td>No</td>\n",
       "    </tr>\n",
       "    <tr>\n",
       "      <th>4</th>\n",
       "      <td>463525</td>\n",
       "      <td>2013-07-22</td>\n",
       "      <td>Bank account or service</td>\n",
       "      <td>Other bank product/service</td>\n",
       "      <td>Account opening, closing, or management</td>\n",
       "      <td>Wells Fargo &amp; Company</td>\n",
       "      <td>CA</td>\n",
       "      <td>95376</td>\n",
       "      <td>Phone</td>\n",
       "      <td>2013-07-30</td>\n",
       "      <td>Closed with explanation</td>\n",
       "      <td>Yes</td>\n",
       "      <td>No</td>\n",
       "    </tr>\n",
       "  </tbody>\n",
       "</table>\n",
       "</div>"
      ],
      "text/plain": [
       "   complaint_id date_received                  product  \\\n",
       "0        468889    2013-07-29  Bank account or service   \n",
       "1        469185    2013-07-29  Bank account or service   \n",
       "2        469446    2013-07-29  Bank account or service   \n",
       "3        471075    2013-07-31  Bank account or service   \n",
       "4        463525    2013-07-22  Bank account or service   \n",
       "\n",
       "                  sub_product                                    issue  \\\n",
       "0            Checking account                Using a debit or ATM card   \n",
       "1  Other bank product/service                 Deposits and withdrawals   \n",
       "2            Checking account                 Deposits and withdrawals   \n",
       "3             Savings account  Account opening, closing, or management   \n",
       "4  Other bank product/service  Account opening, closing, or management   \n",
       "\n",
       "                 company state zip_code submitted_via   date_sent  \\\n",
       "0  Wells Fargo & Company    CA    95992           Web  2013-07-31   \n",
       "1  Wells Fargo & Company    CA    96088           Web  2013-08-01   \n",
       "2  Wells Fargo & Company    CA    92277           Web  2013-08-05   \n",
       "3  Wells Fargo & Company    CA    91214           Web  2013-08-02   \n",
       "4  Wells Fargo & Company    CA    95376         Phone  2013-07-30   \n",
       "\n",
       "  company_response_to_consumer timely_response consumer_disputed  \n",
       "0      Closed with explanation             Yes                No  \n",
       "1      Closed with explanation             Yes                No  \n",
       "2      Closed with explanation             Yes                No  \n",
       "3      Closed with explanation             Yes                No  \n",
       "4      Closed with explanation             Yes                No  "
      ]
     },
     "execution_count": 27,
     "metadata": {},
     "output_type": "execute_result"
    }
   ],
   "source": [
    "query = '''\n",
    "SELECT CAST(complaint_id AS int) AS complaint_id,\n",
    "       date_received, product, sub_product, issue, company,\n",
    "       state, zip_code, submitted_via, date_sent, company_response_to_consumer,\n",
    "       timely_response, consumer_disputed\n",
    "FROM bank_account_complaints \n",
    "WHERE state = 'CA'  \n",
    "    AND consumer_disputed = 'No' \n",
    "    AND company = 'Wells Fargo & Company'\n",
    "LIMIT 5;\n",
    "'''\n",
    "run_query(query)"
   ]
  },
  {
   "cell_type": "markdown",
   "metadata": {},
   "source": [
    "Create the new view named wells_complaints_v."
   ]
  },
  {
   "cell_type": "code",
   "execution_count": 28,
   "metadata": {
    "collapsed": false
   },
   "outputs": [
    {
     "data": {
      "text/plain": [
       "'CREATE VIEW'"
      ]
     },
     "execution_count": 28,
     "metadata": {},
     "output_type": "execute_result"
    }
   ],
   "source": [
    "command = '''\n",
    "CREATE VIEW wells_complaints_v AS (\n",
    "    SELECT CAST(complaint_id AS int) AS complaint_id,\n",
    "           date_received, product, sub_product, issue, company,\n",
    "           state, zip_code, submitted_via, date_sent, company_response_to_consumer,\n",
    "           timely_response, consumer_disputed\n",
    "    FROM bank_account_complaints \n",
    "    WHERE state = 'CA'  \n",
    "         AND consumer_disputed = 'No' \n",
    "         AND company = 'Wells Fargo & Company')\n",
    "'''\n",
    "run_command(command)"
   ]
  },
  {
   "cell_type": "code",
   "execution_count": null,
   "metadata": {
    "collapsed": true
   },
   "outputs": [],
   "source": []
  }
 ],
 "metadata": {
  "kernelspec": {
   "display_name": "Python 3",
   "language": "python",
   "name": "python3"
  },
  "language_info": {
   "codemirror_mode": {
    "name": "ipython",
    "version": 3
   },
   "file_extension": ".py",
   "mimetype": "text/x-python",
   "name": "python",
   "nbconvert_exporter": "python",
   "pygments_lexer": "ipython3",
   "version": "3.6.0"
  }
 },
 "nbformat": 4,
 "nbformat_minor": 2
}
