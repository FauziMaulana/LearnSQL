{
 "cells": [
  {
   "cell_type": "markdown",
   "metadata": {},
   "source": [
    "# Working With A SQLite Database - 2"
   ]
  },
  {
   "cell_type": "markdown",
   "metadata": {},
   "source": [
    "## Objective"
   ]
  },
  {
   "cell_type": "markdown",
   "metadata": {},
   "source": [
    "Select country data with SQL and perform analysis on it.\n",
    "\n",
    "Working with Python and the SQLite command line tool (SQLite Command Shell) to connect to the database, extract data, and perform analysis on the data."
   ]
  },
  {
   "cell_type": "markdown",
   "metadata": {},
   "source": [
    "## Database"
   ]
  },
  {
   "cell_type": "markdown",
   "metadata": {},
   "source": [
    "The database come [from Github](https://github.com/factbook/factbook.sql), It contains compendium of facts about countries. The Factbook contains demographic information for each country in the world, including:\n",
    "\n",
    "    •\tpopulation - The population as of 2015\n",
    "    •\tpopulation_growth - The annual population growth rate, as a percentage\n",
    "    •\tarea - The total land and water area"
   ]
  },
  {
   "cell_type": "markdown",
   "metadata": {},
   "source": [
    "## Exploring the Database"
   ]
  },
  {
   "cell_type": "markdown",
   "metadata": {},
   "source": [
    "Use the SQLite Command Shell to explore factbook.db"
   ]
  },
  {
   "cell_type": "markdown",
   "metadata": {},
   "source": [
    "    $ sqlite3 factbook.db\n",
    "$ .tables\n",
    "    facts"
   ]
  },
  {
   "cell_type": "markdown",
   "metadata": {},
   "source": [
    "## Running Queries In The SQLite Command Shell"
   ]
  },
  {
   "cell_type": "markdown",
   "metadata": {},
   "source": [
    "    $ .mode column\n",
    "$ .headers on\n",
    "    $ SELECT * FROM facts ORDER BY population DESC LIMIT 10;\n",
    "    +-------------------------------------------------------------------------+\n",
    "    | id  | code | name       | area    | area_land | area_water | population |\n",
    "    |-----|------|------------|---------|-----------|------------|------------|\n",
    "    | 261 | xx   | World      |         |           |            | 7256490011 |\n",
    "    | 37  | ch   | China      | 9596960 | 9326410   | 270550     | 1367485388 |\n",
    "    | 77  | in   | India      | 3287263 | 2973193   | 314070     | 1251695584 | \n",
    "    | 197 | ee   | European U | 4324782 |           |            | 513949445  | \n",
    "    | 186 | us   | United Sta | 9826675 | 9161966   | 664709     | 321368864  | \n",
    "    | 78  | id   | Indonesia  | 1904569 | 1811569   | 93000      | 255993674  | \n",
    "    | 24  | br   | Brazil     | 8515770 | 8358140   | 157630     | 204259812  | \n",
    "    | 132 | pk   | Pakistan   | 796095  | 770875    | 25220      | 199085847  | \n",
    "    | 129 | ni   | Nigeria    | 923768  | 910768    | 13000      | 181562056  | \n",
    "    | 14  | bg   | Bangladesh | 148460  | 130170    | 18290      | 168957745  | \n",
    "    +-------------------------------------------------------------------------+\n",
    "    +-----------------------------------------------------------------------------------------------------------------------+\n",
    "    |population_growth | birth_rate | death_rate | migration_rate | created_at                 | updated_at                 |\n",
    "    |------------------|------------|------------|----------------|----------------------------|----------------------------|\n",
    "    |1.08              | 18.6       | 7.8        |                | 2015-11-01 13:39:09.910721 | 2015-11-01 13:39:09.910721 |\n",
    "    |0.45              | 12.49      | 7.53       | 0.44           | 2015-11-01 13:22:53.813142 | 2015-11-01 13:22:53.813142 |\n",
    "    |1.22              | 19.55      | 7.32       | 0.04           | 2015-11-01 13:26:24.788193 | 2015-11-01 13:26:24.788193 |\n",
    "    |0.25              | 10.2       | 10.2       | 2.5            | 2015-11-01 13:36:06.493657 | 2015-11-01 13:36:06.493657 |\n",
    "    |0.78              | 12.49      | 8.15       | 3.86           | 2015-11-01 13:35:14.898271 | 2015-11-01 13:35:14.898271 |\n",
    "    |0.92              | 16.72      | 6.37       | 1.16           | 2015-11-01 13:26:30.435758 | 2015-11-01 13:26:30.435758 |\n",
    "    |0.77              | 14.46      | 6.58       | 0.14           | 2015-11-01 13:21:42.799461 | 2015-11-01 13:21:42.799461 |\n",
    "    |1.46              | 22.58      | 6.49       | 1.54           | 2015-11-01 13:30:54.514863 | 2015-11-01 13:30:54.514863 |\n",
    "    |2.45              | 37.64      | 12.9       | 0.22           | 2015-11-01 13:30:39.695455 | 2015-11-01 13:30:39.695455 |\n",
    "    |1.6               | 21.14      | 5.61       | 0.46           | 2015-11-01 13:20:52.753843 | 2015-11-01 13:20:52.753843 |\n",
    "    +-----------------------------------------------------------------------------------------------------------------------+\n",
    "    \n",
    "    $ SELECT * FROM facts ORDER BY area_land ASC LIMIT 10;\n",
    "    +-------------------------------------------------------------------------+\n",
    "    | id  | code | name       | area    | area_land | area_water | population |\n",
    "    |-----|------|------------|---------|-----------|------------|------------|\n",
    "    | 58  | et   | Ethiopia   | 1104300 |           | 104300     | 99465819   |\n",
    "    | 162 | od   | South Suda | 644329  |           |            | 12042910   |\n",
    "    | 165 | su   | Sudan      | 1861484 |           |            | 36108853   |\n",
    "    | 197 | ee   | European U | 4324782 |           |            | 513949445  |\n",
    "    | 210 | fs   | French Sou |         |           |            |            |\n",
    "    | 212 | tb   | Saint Bart |         |           |            | 7237       |\n",
    "    | 225 | ax   | Akrotiri   | 123     |           |            | 15700      |\n",
    "    | 231 | dx   | Dhekelia   | 130     |           |            | 15700      |\n",
    "    | 249 | um   | United Sta |         |           |            |            |\n",
    "    | 256 | xq   | Arctic Oce |         |           |            |            |\n",
    "    +-------------------------------------------------------------------------+\n",
    "    +-----------------------------------------------------------------------------------------------------------------------+\n",
    "    | population_growth | birth_rate | death_rate | migration_rate | created_at                 | updated_at                |\n",
    "    |-------------------|------------|------------|----------------|----------------------------|---------------------------|\n",
    "    | 2.89              | 37.27      | 8.19       | 0.22           | 2015-11-01 13:24:44.456431 | 2015-11-01 13:24:44.456431| \n",
    "    | 4.02              | 36.91      | 8.18       | 11.47          | 2015-11-01 13:33:16.279312 | 2015-11-01 13:33:16.279312| \n",
    "    | 1.72              | 29.19      | 7.66       | 4.29           | 2015-11-01 13:33:31.360884 | 2015-11-01 13:33:31.360884| \n",
    "    | 0.25              | 10.2       | 10.2       | 2.5            | 2015-11-01 13:36:06.493657 | 2015-11-01 13:36:06.493657| \n",
    "    |                   |            |            |                | 2015-11-01 13:36:43.532683 | 2015-11-01 13:36:43.532683| \n",
    "    |                   |            |            |                | 2015-11-01 13:36:49.817701 | 2015-11-01 13:36:49.817701| \n",
    "    |                   |            |            |                | 2015-11-01 13:37:26.504715 | 2015-11-01 13:37:26.504715| \n",
    "    |                   |            |            |                | 2015-11-01 13:37:45.262682 | 2015-11-01 13:37:45.262682| \n",
    "    |                   |            |            |                | 2015-11-01 13:38:42.851318 | 2015-11-01 13:38:42.851318| \n",
    "    |                   |            |            |                | 2015-11-01 13:38:59.784157 | 2015-11-01 13:38:59.784157| \n",
    "    +-----------------------------------------------------------------------------------------------------------------------+"
   ]
  },
  {
   "cell_type": "markdown",
   "metadata": {},
   "source": [
    "#### Observations:\n",
    "\n",
    "Notice that these queries return some strange results, include non-national entities like the European Union and Akrotiri.\n",
    "The data is fairly messy, and some values in the area_land column are missing. "
   ]
  },
  {
   "cell_type": "markdown",
   "metadata": {},
   "source": [
    "## Using Python With SQLite"
   ]
  },
  {
   "cell_type": "code",
   "execution_count": 1,
   "metadata": {
    "collapsed": false
   },
   "outputs": [
    {
     "name": "stdout",
     "output_type": "stream",
     "text": [
      "[(261, 'xx', 'World', None, None, None, 7256490011, 1.08, 18.6, 7.8, None, '2015-11-01 13:39:09.910721', '2015-11-01 13:39:09.910721'), (37, 'ch', 'China', 9596960, 9326410, 270550, 1367485388, 0.45, 12.49, 7.53, 0.44, '2015-11-01 13:22:53.813142', '2015-11-01 13:22:53.813142'), (77, 'in', 'India', 3287263, 2973193, 314070, 1251695584, 1.22, 19.55, 7.32, 0.04, '2015-11-01 13:26:24.788193', '2015-11-01 13:26:24.788193'), (197, 'ee', 'European Union', 4324782, None, None, 513949445, 0.25, 10.2, 10.2, 2.5, '2015-11-01 13:36:06.493657', '2015-11-01 13:36:06.493657'), (186, 'us', 'United States', 9826675, 9161966, 664709, 321368864, 0.78, 12.49, 8.15, 3.86, '2015-11-01 13:35:14.898271', '2015-11-01 13:35:14.898271'), (78, 'id', 'Indonesia', 1904569, 1811569, 93000, 255993674, 0.92, 16.72, 6.37, 1.16, '2015-11-01 13:26:30.435758', '2015-11-01 13:26:30.435758'), (24, 'br', 'Brazil', 8515770, 8358140, 157630, 204259812, 0.77, 14.46, 6.58, 0.14, '2015-11-01 13:21:42.799461', '2015-11-01 13:21:42.799461'), (132, 'pk', 'Pakistan', 796095, 770875, 25220, 199085847, 1.46, 22.58, 6.49, 1.54, '2015-11-01 13:30:54.514863', '2015-11-01 13:30:54.514863'), (129, 'ni', 'Nigeria', 923768, 910768, 13000, 181562056, 2.45, 37.64, 12.9, 0.22, '2015-11-01 13:30:39.695455', '2015-11-01 13:30:39.695455'), (14, 'bg', 'Bangladesh', 148460, 130170, 18290, 168957745, 1.6, 21.14, 5.61, 0.46, '2015-11-01 13:20:52.753843', '2015-11-01 13:20:52.753843')]\n"
     ]
    }
   ],
   "source": [
    "import sqlite3\n",
    "conn = sqlite3.connect('factbook.db')\n",
    "cursor = conn.cursor()\n",
    "\n",
    "query = ('SELECT * FROM facts ORDER BY population DESC LIMIT 10;')\n",
    "results = conn.execute(query).fetchall()\n",
    "print(results)"
   ]
  },
  {
   "cell_type": "markdown",
   "metadata": {},
   "source": [
    "## Computing Population Projections"
   ]
  },
  {
   "cell_type": "markdown",
   "metadata": {},
   "source": [
    "Read the facts table into pandas, and then compute the projected population for each country in 2050."
   ]
  },
  {
   "cell_type": "code",
   "execution_count": 2,
   "metadata": {
    "collapsed": false
   },
   "outputs": [
    {
     "name": "stdout",
     "output_type": "stream",
     "text": [
      "                                  name  population_2050\n",
      "76                               India       1918414568\n",
      "36                               China       1600752082\n",
      "128                            Nigeria        427989003\n",
      "185                      United States        422246629\n",
      "77                           Indonesia        353241773\n",
      "131                           Pakistan        331867609\n",
      "13                          Bangladesh        295789677\n",
      "23                              Brazil        267439339\n",
      "39   Congo, Democratic Republic of the        187107846\n",
      "113                             Mexico        183986320\n"
     ]
    }
   ],
   "source": [
    "import math\n",
    "import pandas as pd\n",
    "\n",
    "conn = sqlite3.connect('factbook.db')\n",
    "facts = pd.read_sql_query('select * from facts', conn)\n",
    "facts = facts.dropna(axis=0, subset=['area_land', 'population', 'population_growth'])\n",
    "\n",
    "def estimate_pop(row, y):\n",
    "    pop = row['population']\n",
    "    pop_g = row['population_growth']\n",
    "    return int(pop * (math.e ** ((pop_g/100) * y)))\n",
    "\n",
    "facts['population_2050'] = facts.apply(lambda row: estimate_pop(row, 35), axis=1)\n",
    "facts = facts.sort_values('population_2050', ascending=False)\n",
    "print(facts[['name', 'population_2050']].head(10))\n",
    "conn.close()"
   ]
  },
  {
   "cell_type": "markdown",
   "metadata": {},
   "source": [
    "## Summing Columns To Compute Total Area"
   ]
  },
  {
   "cell_type": "markdown",
   "metadata": {},
   "source": [
    "Compute the ratio of land area to water area that each country claims."
   ]
  },
  {
   "cell_type": "code",
   "execution_count": 3,
   "metadata": {
    "collapsed": false
   },
   "outputs": [
    {
     "name": "stdout",
     "output_type": "stream",
     "text": [
      "128584834\n",
      "4633425\n",
      "27.7515734041\n"
     ]
    }
   ],
   "source": [
    "conn = sqlite3.connect('factbook.db')\n",
    "sum_land = pd.read_sql_query('select sum(area_land) from facts', conn)['sum(area_land)'][0]\n",
    "print(sum_land)\n",
    "sum_water = pd.read_sql_query('select sum(area_water) from facts', conn)['sum(area_water)'][0]\n",
    "print(sum_water)\n",
    "print(sum_land / sum_water)\n",
    "conn.close()"
   ]
  }
 ],
 "metadata": {
  "kernelspec": {
   "display_name": "Python 3",
   "language": "python",
   "name": "python3"
  },
  "language_info": {
   "codemirror_mode": {
    "name": "ipython",
    "version": 3
   },
   "file_extension": ".py",
   "mimetype": "text/x-python",
   "name": "python",
   "nbconvert_exporter": "python",
   "pygments_lexer": "ipython3",
   "version": "3.6.0"
  }
 },
 "nbformat": 4,
 "nbformat_minor": 2
}
